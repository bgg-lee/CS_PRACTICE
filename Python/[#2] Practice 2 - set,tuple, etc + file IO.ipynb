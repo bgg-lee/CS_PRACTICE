{
 "cells": [
  {
   "cell_type": "markdown",
   "id": "z2Ag8OinB65s",
   "metadata": {
    "id": "z2Ag8OinB65s"
   },
   "source": [
    "\n",
    "# Sets, Tuple, Dictionaires, and Mutability"
   ]
  },
  {
   "cell_type": "markdown",
   "id": "59b87d01",
   "metadata": {
    "id": "59b87d01"
   },
   "source": [
    "### Q1. Find duplicates"
   ]
  },
  {
   "cell_type": "markdown",
   "id": "a2c008f6",
   "metadata": {
    "id": "a2c008f6"
   },
   "source": [
    "[KOR] 정수(int)로만 구성된 리스트를 변수(argument)로 받고, 그 중 두 번 이상 반복되는 정수의 집합(set)을 리턴하는 함수를 작성하시오.\n",
    "\n",
    "[ENG] Take a list of integers as input argument, and return a set of numbers that appear two or more times."
   ]
  },
  {
   "cell_type": "markdown",
   "id": "06eaaced",
   "metadata": {
    "id": "06eaaced"
   },
   "source": [
    "- ex1 - P1([1, 2, 3, 1])\n",
    "> {1}\n",
    "- ex2 - P1([1, 1, 2, 3, 3, 3])\n",
    "> {1,3}\n",
    "- ex3 - P1([1, 2, 3, 4, 5])\n",
    "> set()\n"
   ]
  },
  {
   "cell_type": "markdown",
   "id": "d04c3808",
   "metadata": {
    "id": "d04c3808"
   },
   "source": [
    "#### Solution"
   ]
  },
  {
   "cell_type": "code",
   "execution_count": 21,
   "id": "e9cd45ed",
   "metadata": {
    "scrolled": true
   },
   "outputs": [
    {
     "name": "stdout",
     "output_type": "stream",
     "text": [
      "Help on class enumerate in module builtins:\n",
      "\n",
      "class enumerate(object)\n",
      " |  enumerate(iterable, start=0)\n",
      " |  \n",
      " |  Return an enumerate object.\n",
      " |  \n",
      " |    iterable\n",
      " |      an object supporting iteration\n",
      " |  \n",
      " |  The enumerate object yields pairs containing a count (from start, which\n",
      " |  defaults to zero) and a value yielded by the iterable argument.\n",
      " |  \n",
      " |  enumerate is useful for obtaining an indexed list:\n",
      " |      (0, seq[0]), (1, seq[1]), (2, seq[2]), ...\n",
      " |  \n",
      " |  Methods defined here:\n",
      " |  \n",
      " |  __getattribute__(self, name, /)\n",
      " |      Return getattr(self, name).\n",
      " |  \n",
      " |  __iter__(self, /)\n",
      " |      Implement iter(self).\n",
      " |  \n",
      " |  __next__(self, /)\n",
      " |      Implement next(self).\n",
      " |  \n",
      " |  __reduce__(...)\n",
      " |      Return state information for pickling.\n",
      " |  \n",
      " |  ----------------------------------------------------------------------\n",
      " |  Class methods defined here:\n",
      " |  \n",
      " |  __class_getitem__(...) from builtins.type\n",
      " |      See PEP 585\n",
      " |  \n",
      " |  ----------------------------------------------------------------------\n",
      " |  Static methods defined here:\n",
      " |  \n",
      " |  __new__(*args, **kwargs) from builtins.type\n",
      " |      Create and return a new object.  See help(type) for accurate signature.\n",
      "\n"
     ]
    }
   ],
   "source": [
    "help(enumerate)"
   ]
  },
  {
   "cell_type": "code",
   "execution_count": 12,
   "id": "4ee624b1",
   "metadata": {},
   "outputs": [
    {
     "data": {
      "text/plain": [
       "[1, 3]"
      ]
     },
     "execution_count": 12,
     "metadata": {},
     "output_type": "execute_result"
    }
   ],
   "source": [
    "list_a = [1,1,2,3,3]\n",
    "set_a = set(list_a)\n",
    "set_a\n",
    "list_b = list(set_a)\n",
    "list_b\n",
    "# help(list)\n",
    "for x in list_b:\n",
    "    list_a.remove(x)\n",
    "list_a"
   ]
  },
  {
   "cell_type": "code",
   "execution_count": 13,
   "id": "8f162ac5",
   "metadata": {
    "id": "8f162ac5"
   },
   "outputs": [],
   "source": [
    "def P1(lst: list) -> set:\n",
    "    ### Write code here ###\n",
    "    set_a = set(lst)\n",
    "    lst_a = list(set_a)\n",
    "    for i in lst_a:\n",
    "        lst.remove(i)\n",
    "    return set(lst)\n",
    "    ### End of your code ###"
   ]
  },
  {
   "cell_type": "code",
   "execution_count": 14,
   "id": "fd529607",
   "metadata": {
    "id": "fd529607"
   },
   "outputs": [
    {
     "name": "stdout",
     "output_type": "stream",
     "text": [
      "Input: [1, 2, 3, 1] / Expected: {1} / Return:  {1}\n",
      "Input: [1, 1, 2, 3, 3, 3] / Expected: {1, 3} / Return:  {1, 3}\n",
      "Input: [1, 2, 3, 4, 5] / Expected: set() / Return:  set()\n"
     ]
    }
   ],
   "source": [
    "# Test code for given cases; run without modification\n",
    "print(\"Input: [1, 2, 3, 1] / Expected: {1} / Return: \", P1([1, 2, 3, 1]))\n",
    "print(\"Input: [1, 1, 2, 3, 3, 3] / Expected: {1, 3} / Return: \", P1([1, 1, 2, 3, 3, 3]))\n",
    "print(\"Input: [1, 2, 3, 4, 5] / Expected: set() / Return: \", P1([1, 2, 3, 4, 5]))"
   ]
  },
  {
   "cell_type": "code",
   "execution_count": 19,
   "id": "55f7a109",
   "metadata": {
    "id": "55f7a109"
   },
   "outputs": [
    {
     "data": {
      "text/plain": [
       "{-2, -1, 4125}"
      ]
     },
     "execution_count": 19,
     "metadata": {},
     "output_type": "execute_result"
    }
   ],
   "source": [
    "# Try your own test case!\n",
    "test_input =[-1,-1,-2,3,4125,4125,0,-5,-2,9,5,\"A\"]\n",
    "P1(test_input)"
   ]
  },
  {
   "cell_type": "code",
   "execution_count": 30,
   "id": "d116f6c2",
   "metadata": {},
   "outputs": [
    {
     "name": "stdout",
     "output_type": "stream",
     "text": [
      "{1, 2, 5}\n",
      "set()\n",
      "{1, 2, 4}\n"
     ]
    }
   ],
   "source": [
    "from typing import List, Set\n",
    "\n",
    "def find_repeated_numbers(lst: List[int]) -> Set[int]:\n",
    "    number_count = {}\n",
    "    for num in lst:\n",
    "        if num in number_count:\n",
    "            number_count[num] += 1\n",
    "        else:\n",
    "            number_count[num] = 1\n",
    "    \n",
    "    ans = set()\n",
    "    for num,count in number_count.items() :\n",
    "        if count >=2 :\n",
    "            ans.add(num)\n",
    "    return ans\n",
    "#     return {num for num, count in number_count.items() if count >= 2}\n",
    "\n",
    "# 테스트\n",
    "print(find_repeated_numbers([1, 2, 3, 2, 4, 5, 6, 5, 7, 8, 9, 1]))  # {1, 2, 5}\n",
    "print(find_repeated_numbers([10, 20, 30, 40, 50]))  # set()\n",
    "print(find_repeated_numbers([1, 1, 1, 2, 2, 3, 4, 4, 4]))  # {1, 2, 4}"
   ]
  },
  {
   "cell_type": "markdown",
   "id": "8cd0fa28",
   "metadata": {
    "id": "8cd0fa28"
   },
   "source": [
    "### Q2. Particle with highest probability"
   ]
  },
  {
   "cell_type": "markdown",
   "id": "d047edd3",
   "metadata": {
    "id": "d047edd3"
   },
   "source": [
    "[KOR]\n",
    "일련의 실험을 수행한 후, 특정 다섯 종류의 아원자 입자(subatomic particles)를 탐지할 확률을 {str: float} 딕셔너리 형태로 다음과 같이 저장했다.\n",
    "> {'neutron': 0.55, ‘proton': 0.21, 'meson': 0.03, 'muon': 0.07, 'neutrino': 0.14}\n",
    "\n",
    "이러한 딕셔너리를 변수(argument)로 받아 탐지 가능성이 가장 큰 입자를 리턴하는 함수를 작성하시오. 입자가 발견될 확률이 같은 경우는 없다.\n",
    "\n",
    "[ENG]\n",
    "Probabilities of detecting each subatomic particles are given in the form of dictionary.\n",
    "> {'neutron': 0.55, ‘proton': 0.21, 'meson': 0.03, 'muon': 0.07, 'neutrino': 0.14}\n",
    "\n",
    "Implement a function that returns the particle with the highest probability. There is no case that the probability is the same among different particles."
   ]
  },
  {
   "cell_type": "markdown",
   "id": "0cee3808",
   "metadata": {
    "id": "0cee3808"
   },
   "source": [
    "- ex1 - P2({'neutron': 0.55, 'proton': 0.21, 'meson': 0.03, 'muon': 0.07, 'neutrino': 0.14})\n",
    "> 'neutron'\n",
    "- ex2 - P2({'neutron': 0.11, 'proton': 0.21, 'meson': 0.05, 'muon': 0.09, 'neutrino': 0.12})\n",
    "> 'proton'"
   ]
  },
  {
   "cell_type": "markdown",
   "id": "378deec1",
   "metadata": {
    "id": "378deec1"
   },
   "source": [
    "#### Solution"
   ]
  },
  {
   "cell_type": "code",
   "execution_count": 39,
   "id": "4b77e54d",
   "metadata": {},
   "outputs": [
    {
     "name": "stdout",
     "output_type": "stream",
     "text": [
      "A <class 'str'>\n",
      "B <class 'str'>\n"
     ]
    },
    {
     "data": {
      "text/plain": [
       "dict_keys(['A', 'B'])"
      ]
     },
     "execution_count": 39,
     "metadata": {},
     "output_type": "execute_result"
    }
   ],
   "source": [
    "dct = {\"A\":1,\"B\":2}\n",
    "for x in dct:\n",
    "    print(x,type(x))\n",
    "dct.keys()"
   ]
  },
  {
   "cell_type": "code",
   "execution_count": 50,
   "id": "29880302",
   "metadata": {},
   "outputs": [
    {
     "data": {
      "text/plain": [
       "'B'"
      ]
     },
     "execution_count": 50,
     "metadata": {},
     "output_type": "execute_result"
    }
   ],
   "source": [
    "dct = {\"A\":1,\"B\":7,\"C\":5}\n",
    "lst = []\n",
    "for k,v in dct.items():\n",
    "    lst = lst + [[v,k]]\n",
    "lst.sort(reverse=True)\n",
    "lst[0][1]"
   ]
  },
  {
   "cell_type": "code",
   "execution_count": 51,
   "id": "78c884c3",
   "metadata": {
    "id": "78c884c3"
   },
   "outputs": [],
   "source": [
    "def P2(dct: dict) -> str: #내가 짠 것\n",
    "    ### Write code here ###\n",
    "    lst = []\n",
    "    for k,v in dct.items():\n",
    "        lst = lst + [[v,k]]\n",
    "    lst.sort(reverse=True)\n",
    "    return lst[0][1]\n",
    "    ### End of your code ###"
   ]
  },
  {
   "cell_type": "code",
   "execution_count": 53,
   "id": "eef90bb7",
   "metadata": {
    "id": "78c884c3"
   },
   "outputs": [],
   "source": [
    "def P2(dct: dict) -> str: # 요렇게 푸는 것이 깔끔할듯\n",
    "    ### Write code here ###\n",
    "    most_prob = -1\n",
    "    ans = \"\"\n",
    "    for k,y in dct.items():\n",
    "        if y > most_prob:\n",
    "            most_prob = y\n",
    "            ans = k\n",
    "    return k\n",
    "    ### End of your code ###"
   ]
  },
  {
   "cell_type": "code",
   "execution_count": 56,
   "id": "e4c48b20",
   "metadata": {
    "id": "e4c48b20"
   },
   "outputs": [
    {
     "name": "stdout",
     "output_type": "stream",
     "text": [
      "Input: {'neutron': 0.55, 'proton': 0.21, 'meson': 0.03, 'muon': 0.07, 'neutrino': 0.14} \n",
      " Expected: neutron \n",
      " Return:  neutrino\n",
      "Input: {'neutron': 0.11, 'proton': 0.21, 'meson': 0.05, 'muon': 0.09, 'neutrino': 0.12} \n",
      " Expected: proton \n",
      " Return:  neutrino\n"
     ]
    }
   ],
   "source": [
    "# Test code for given cases; run without modification\n",
    "print(\"Input: {'neutron': 0.55, 'proton': 0.21, 'meson': 0.03, 'muon': 0.07, 'neutrino': 0.14} \\n Expected: neutron \\n Return: \", P2({'neutron': 0.55, 'proton': 0.21, 'meson': 0.03, 'muon': 0.07, 'neutrino': 0.14}))\n",
    "print(\"Input: {'neutron': 0.11, 'proton': 0.21, 'meson': 0.05, 'muon': 0.09, 'neutrino': 0.12} \\n Expected: proton \\n Return: \", P2({'neutron': 0.11, 'proton': 0.21, 'meson': 0.05, 'muon': 0.09, 'neutrino': 0.12}))"
   ]
  },
  {
   "cell_type": "code",
   "execution_count": 57,
   "id": "af547038",
   "metadata": {
    "id": "af547038"
   },
   "outputs": [
    {
     "data": {
      "text/plain": [
       "'C'"
      ]
     },
     "execution_count": 57,
     "metadata": {},
     "output_type": "execute_result"
    }
   ],
   "source": [
    "# Try your own test case!\n",
    "test_input = {\"A\":99,\"B\":90,\"C\":100}\n",
    "P2(test_input)"
   ]
  },
  {
   "cell_type": "markdown",
   "id": "764fc4b0",
   "metadata": {
    "id": "764fc4b0"
   },
   "source": [
    "### Q3. Check dictionary of dictionaries"
   ]
  },
  {
   "cell_type": "markdown",
   "id": "a6ed4a38",
   "metadata": {
    "id": "a6ed4a38"
   },
   "source": [
    "[KOR]\n",
    "때때로 프로그래머들은 value가 딕셔너리로 이루어진 “Dictionary of dictionaries”를 간단한 데이터베이스로 이용한다. key가 문자열(string)이고 value가 딕셔너리 형태인 “Dictionary of dictionaries”를 다음과 같이 나타낼 수 있고, 이때 value는 “inner dictionary”라 한다. “Dictionary of dictionaries”를 변수(argument)로 받아 “inner dictionaries”가 모두 같은 key 값을 가지면 1, 아니면 0을 리턴하는 함수를 작성하시오.\n",
    "\n",
    "! 조건\n",
    "1. 딕셔너리가 비어있는 경우는 없음\n",
    "2. 모든 value는 딕셔너리로 되어있음\n",
    "3. value의 value는 딕셔너리 형태가 아님\n",
    "\n",
    "\n",
    "[ENG]\n",
    "\"Dictionary of dictionaries\" refer to a dictionary that has values that are dictionaries as well. Here we have keys of strings and values of dictionaries, which we call \"inner dictionary\". Take \"Dictionary of dictionaries\" as input argument. Return 1 if all \"inner dictionaries\" have the exact same keys, else 0.\n",
    "\n",
    "! Condition\n",
    "1. input dictionaries are not empty\n",
    "2. All values are dictionaries\n",
    "3. Values of a value is not a dictionary"
   ]
  },
  {
   "cell_type": "code",
   "execution_count": null,
   "id": "becfd848",
   "metadata": {
    "id": "becfd848"
   },
   "outputs": [],
   "source": [
    "{ 'jgoodall' : {'surname' : 'Goodall',\n",
    "                'forename' : 'Jane',\n",
    "                'born' : 1934,\n",
    "                'died' : None,\n",
    "                'notes' : 'primate researcher',\n",
    "                'author' : ['In the Shadow of Man','The Chimpanzees of Gombe']},\n",
    "    'rfranklin' : {'surname' : 'Franklin',\n",
    "                'forename' : 'Rosalind',\n",
    "                'born' : 1920,\n",
    "                'died' : 1957,\n",
    "                'notes' : 'contributed to discovery of DNA'},\n",
    "    'rcarson' : {'surname' : 'Carson',\n",
    "                'forename' : 'Rachel',\n",
    "                'born' : 1907,\n",
    "                'died' : 1964,\n",
    "                'notes' : 'raised awareness of effects of DDT',\n",
    "                'author' : ['Silent Spring'] }}"
   ]
  },
  {
   "cell_type": "markdown",
   "id": "ee4feb00",
   "metadata": {
    "id": "ee4feb00"
   },
   "source": [
    "- ex1 - P3({'a': {'aa':123, 'ab': [1,2]}, 'b': {'aa': 'bb', 'ab': 'cc'}})\n",
    "> 1 (Explanation: All values have the same keys, {'aa', 'ab'}.)\n",
    "- ex2 - P3({'A': {1: 'a', 2: 'b'}, 'B': {2: 'c', 3: 'd'}})\n",
    "> 0"
   ]
  },
  {
   "cell_type": "markdown",
   "id": "b1586baf",
   "metadata": {
    "id": "b1586baf"
   },
   "source": [
    "#### Solution"
   ]
  },
  {
   "cell_type": "code",
   "execution_count": 83,
   "id": "99f76b43",
   "metadata": {
    "id": "99f76b43"
   },
   "outputs": [],
   "source": [
    "def P3(dct: dict) -> int: #내가 짠 것\n",
    "    ### Write code here ###\n",
    "    temp_dict = {}\n",
    "    cnt = 0\n",
    "    for v in dct.values():\n",
    "        if temp_dict != v.keys() :\n",
    "            temp_dict = v.keys()\n",
    "            cnt += 1\n",
    "    if cnt == 1 : return 1\n",
    "    else : return 0\n",
    "    \n",
    "    ### End of your code ###"
   ]
  },
  {
   "cell_type": "code",
   "execution_count": 124,
   "id": "08ab5c09",
   "metadata": {},
   "outputs": [
    {
     "name": "stdout",
     "output_type": "stream",
     "text": [
      "Input: {'a': {'aa':123, 'ab': [1,2]}, 'b': {'aa': 'bb', 'ab': 'cc'}, 'c':{'ab':'bc','aa':'dd'}} \n",
      " Expected: 1 \n",
      " Return:  1\n",
      "Input: {'A': {1: 'a', 2: 'b'}, 'B': {2: 'c', 3: 'd'}} \n",
      " Expected: 0 \n",
      " Return:  0\n"
     ]
    }
   ],
   "source": [
    "def P3(dct: dict) -> int: #iter 활용법\n",
    "    ### Write code here ###\n",
    "    it = iter(dct.values())\n",
    "    first_keys = set(next(it))\n",
    "#     print(first_keys,type(first_keys))\n",
    "    for x in dct.values():\n",
    "        if set(x.keys()) != first_keys : return 0\n",
    "    return 1\n",
    "    ### End of your code ###\n",
    "# Test code for given cases; run without modification\n",
    "print(\"Input: {'a': {'aa':123, 'ab': [1,2]}, 'b': {'aa': 'bb', 'ab': 'cc'}, 'c':{'ab':'bc','aa':'dd'}} \\n Expected: 1 \\n Return: \", P3({'a': {'aa':123, 'ab': [1,2]}, 'b': {'aa': 'bb', 'ab': 'cc'}, 'c':{'ab':'bc','aa':'dd'}}))\n",
    "print(\"Input: {'A': {1: 'a', 2: 'b'}, 'B': {2: 'c', 3: 'd'}} \\n Expected: 0 \\n Return: \", P3({'A': {1: 'a', 2: 'b'}, 'B': {2: 'c', 3: 'd'}}))"
   ]
  },
  {
   "cell_type": "markdown",
   "id": "mkugnd6xKsnG",
   "metadata": {
    "id": "mkugnd6xKsnG"
   },
   "source": [
    "# File IO"
   ]
  },
  {
   "cell_type": "markdown",
   "id": "b914d718-b4c3-4107-99d2-10fee0eb0c02",
   "metadata": {},
   "source": [
    "시작 전 menu.txt, file_practice.txt를 현재 디렉토리에 저장해 주세요."
   ]
  },
  {
   "cell_type": "markdown",
   "id": "37da5851",
   "metadata": {
    "id": "37da5851"
   },
   "source": [
    "## Q4. Café menu\n",
    "\n",
    "Write two functions to read a cafe's menu from a text file (menu.txt) and return a list of menu.\n",
    "\n",
    "* menu - returns list of lists\n",
    "* reverse_menu - returns a list of strings in reverse order"
   ]
  },
  {
   "cell_type": "code",
   "execution_count": 1,
   "id": "d08d9508-a3b7-42d0-a85c-0bb18bd10579",
   "metadata": {},
   "outputs": [
    {
     "name": "stdout",
     "output_type": "stream",
     "text": [
      "menu.txt \n",
      "\n",
      "chicken 5000\n",
      "apple 3000\n",
      "beef 15000\n"
     ]
    }
   ],
   "source": [
    "print(\"menu.txt \\n\")\n",
    "with open(\"menu.txt\",'r') as menu_txt:\n",
    "    print(menu_txt.read())"
   ]
  },
  {
   "cell_type": "code",
   "execution_count": 3,
   "id": "80d140a0",
   "metadata": {
    "id": "80d140a0"
   },
   "outputs": [],
   "source": [
    "from typing import TextIO, List"
   ]
  },
  {
   "cell_type": "code",
   "execution_count": 11,
   "id": "8a29fdd4",
   "metadata": {
    "id": "8a29fdd4"
   },
   "outputs": [],
   "source": [
    "def menu(filename : str) -> List[List]:\n",
    "    # Write your code here\n",
    "    out_list = []\n",
    "    with open(filename,\"r\") as f:\n",
    "        line = f.readline()\n",
    "        while line :\n",
    "            line = line.strip()\n",
    "            lst = line.split(\" \")\n",
    "            out_list.append(lst[0])\n",
    "            line = f.readline()\n",
    "    return out_list"
   ]
  },
  {
   "cell_type": "code",
   "execution_count": 12,
   "id": "2301df84",
   "metadata": {
    "id": "2301df84"
   },
   "outputs": [
    {
     "data": {
      "text/plain": [
       "['chicken', 'apple', 'beef']"
      ]
     },
     "execution_count": 12,
     "metadata": {},
     "output_type": "execute_result"
    }
   ],
   "source": [
    "menu('menu.txt')"
   ]
  },
  {
   "cell_type": "code",
   "execution_count": 13,
   "id": "b153071e",
   "metadata": {
    "id": "b153071e"
   },
   "outputs": [],
   "source": [
    "def reverse_menu(filename: str) -> list: # 이렇게 풀라는 건 아니겠지 설마..?\n",
    "    # Write your code here\n",
    "    lst = menu(filename)\n",
    "    reverse_list = []\n",
    "    for i in lst:\n",
    "        reverse_list.insert(0,i)\n",
    "    \n",
    "    return reverse_list"
   ]
  },
  {
   "cell_type": "code",
   "execution_count": 17,
   "id": "fb2868e4",
   "metadata": {
    "id": "b153071e"
   },
   "outputs": [],
   "source": [
    "def reverse_menu(filename: str) -> list: # 이거겠지, 어쨌든 맥락은 같다.\n",
    "    # Write your code here\n",
    "    reverse_list = []\n",
    "    with open(filename,\"r\") as f:\n",
    "        line = f.readline()\n",
    "        while line:\n",
    "            line = line.strip()\n",
    "            lst = line.split(\" \")\n",
    "            reverse_list.insert(0,lst[0])\n",
    "            line = f.readline()\n",
    "    return reverse_list"
   ]
  },
  {
   "cell_type": "code",
   "execution_count": 14,
   "id": "501bc6d0",
   "metadata": {
    "id": "501bc6d0"
   },
   "outputs": [
    {
     "data": {
      "text/plain": [
       "['beef', 'apple', 'chicken']"
      ]
     },
     "execution_count": 14,
     "metadata": {},
     "output_type": "execute_result"
    }
   ],
   "source": [
    "reverse_menu('menu.txt')"
   ]
  }
 ],
 "metadata": {
  "colab": {
   "collapsed_sections": [
    "mkugnd6xKsnG",
    "37da5851",
    "36383641",
    "0408a141",
    "2d209e85",
    "d6a2a24b"
   ],
   "provenance": []
  },
  "kernelspec": {
   "display_name": "Python 3 (ipykernel)",
   "language": "python",
   "name": "python3"
  },
  "language_info": {
   "codemirror_mode": {
    "name": "ipython",
    "version": 3
   },
   "file_extension": ".py",
   "mimetype": "text/x-python",
   "name": "python",
   "nbconvert_exporter": "python",
   "pygments_lexer": "ipython3",
   "version": "3.11.5"
  }
 },
 "nbformat": 4,
 "nbformat_minor": 5
}
